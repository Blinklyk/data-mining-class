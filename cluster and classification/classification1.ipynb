{
 "cells": [
  {
   "cell_type": "code",
   "execution_count": 1,
   "metadata": {},
   "outputs": [],
   "source": [
    "import pandas as pd\n",
    "from sklearn.model_selection import train_test_split"
   ]
  },
  {
   "cell_type": "code",
   "execution_count": 2,
   "metadata": {},
   "outputs": [
    {
     "data": {
      "text/plain": [
       "(1599, 12)"
      ]
     },
     "execution_count": 2,
     "metadata": {},
     "output_type": "execute_result"
    }
   ],
   "source": [
    "data = pd.read_csv('data/winequality-red.csv')\n",
    "df = pd.DataFrame(data)\n",
    "df.shape"
   ]
  },
  {
   "cell_type": "code",
   "execution_count": 3,
   "metadata": {},
   "outputs": [
    {
     "name": "stdout",
     "output_type": "stream",
     "text": [
      "(1599, 12)\n",
      "['fixed acidity' 'volatile acidity' 'citric acid' 'residual sugar'\n",
      " 'chlorides' 'free sulfur dioxide' 'total sulfur dioxide' 'density' 'pH'\n",
      " 'sulphates' 'alcohol' 'quality']\n",
      "   fixed acidity  volatile acidity  citric acid  residual sugar  chlorides  \\\n",
      "0            7.4              0.70         0.00             1.9      0.076   \n",
      "1            7.8              0.88         0.00             2.6      0.098   \n",
      "2            7.8              0.76         0.04             2.3      0.092   \n",
      "3           11.2              0.28         0.56             1.9      0.075   \n",
      "4            7.4              0.70         0.00             1.9      0.076   \n",
      "\n",
      "   free sulfur dioxide  total sulfur dioxide  density    pH  sulphates  \\\n",
      "0                 11.0                  34.0   0.9978  3.51       0.56   \n",
      "1                 25.0                  67.0   0.9968  3.20       0.68   \n",
      "2                 15.0                  54.0   0.9970  3.26       0.65   \n",
      "3                 17.0                  60.0   0.9980  3.16       0.58   \n",
      "4                 11.0                  34.0   0.9978  3.51       0.56   \n",
      "\n",
      "   alcohol  quality  \n",
      "0      9.4        5  \n",
      "1      9.8        5  \n",
      "2      9.8        5  \n",
      "3      9.8        6  \n",
      "4      9.4        5  \n",
      "      fixed acidity  volatile acidity  citric acid  residual sugar  chlorides  \\\n",
      "1594            6.2             0.600         0.08             2.0      0.090   \n",
      "1595            5.9             0.550         0.10             2.2      0.062   \n",
      "1596            6.3             0.510         0.13             2.3      0.076   \n",
      "1597            5.9             0.645         0.12             2.0      0.075   \n",
      "1598            6.0             0.310         0.47             3.6      0.067   \n",
      "\n",
      "      free sulfur dioxide  total sulfur dioxide  density    pH  sulphates  \\\n",
      "1594                 32.0                  44.0  0.99490  3.45       0.58   \n",
      "1595                 39.0                  51.0  0.99512  3.52       0.76   \n",
      "1596                 29.0                  40.0  0.99574  3.42       0.75   \n",
      "1597                 32.0                  44.0  0.99547  3.57       0.71   \n",
      "1598                 18.0                  42.0  0.99549  3.39       0.66   \n",
      "\n",
      "      alcohol  quality  \n",
      "1594     10.5        5  \n",
      "1595     11.2        6  \n",
      "1596     11.0        6  \n",
      "1597     10.2        5  \n",
      "1598     11.0        6  \n",
      "<class 'pandas.core.frame.DataFrame'>\n",
      "RangeIndex: 1599 entries, 0 to 1598\n",
      "Data columns (total 12 columns):\n",
      "fixed acidity           1599 non-null float64\n",
      "volatile acidity        1599 non-null float64\n",
      "citric acid             1599 non-null float64\n",
      "residual sugar          1599 non-null float64\n",
      "chlorides               1599 non-null float64\n",
      "free sulfur dioxide     1599 non-null float64\n",
      "total sulfur dioxide    1599 non-null float64\n",
      "density                 1599 non-null float64\n",
      "pH                      1599 non-null float64\n",
      "sulphates               1599 non-null float64\n",
      "alcohol                 1599 non-null float64\n",
      "quality                 1599 non-null int64\n",
      "dtypes: float64(11), int64(1)\n",
      "memory usage: 150.0 KB\n",
      "None\n",
      "       fixed acidity  volatile acidity  citric acid  residual sugar  \\\n",
      "count    1599.000000       1599.000000  1599.000000     1599.000000   \n",
      "mean        8.319637          0.527821     0.270976        2.538806   \n",
      "std         1.741096          0.179060     0.194801        1.409928   \n",
      "min         4.600000          0.120000     0.000000        0.900000   \n",
      "25%         7.100000          0.390000     0.090000        1.900000   \n",
      "50%         7.900000          0.520000     0.260000        2.200000   \n",
      "75%         9.200000          0.640000     0.420000        2.600000   \n",
      "max        15.900000          1.580000     1.000000       15.500000   \n",
      "\n",
      "         chlorides  free sulfur dioxide  total sulfur dioxide      density  \\\n",
      "count  1599.000000          1599.000000           1599.000000  1599.000000   \n",
      "mean      0.087467            15.874922             46.467792     0.996747   \n",
      "std       0.047065            10.460157             32.895324     0.001887   \n",
      "min       0.012000             1.000000              6.000000     0.990070   \n",
      "25%       0.070000             7.000000             22.000000     0.995600   \n",
      "50%       0.079000            14.000000             38.000000     0.996750   \n",
      "75%       0.090000            21.000000             62.000000     0.997835   \n",
      "max       0.611000            72.000000            289.000000     1.003690   \n",
      "\n",
      "                pH    sulphates      alcohol      quality  \n",
      "count  1599.000000  1599.000000  1599.000000  1599.000000  \n",
      "mean      3.311113     0.658149    10.422983     5.636023  \n",
      "std       0.154386     0.169507     1.065668     0.807569  \n",
      "min       2.740000     0.330000     8.400000     3.000000  \n",
      "25%       3.210000     0.550000     9.500000     5.000000  \n",
      "50%       3.310000     0.620000    10.200000     6.000000  \n",
      "75%       3.400000     0.730000    11.100000     6.000000  \n",
      "max       4.010000     2.000000    14.900000     8.000000  \n"
     ]
    }
   ],
   "source": [
    "print(df.shape)\n",
    "print(df.columns.values)\n",
    "print(df.head())\n",
    "print(df.tail())\n",
    "print(df.info())\n",
    "print(df.describe())"
   ]
  },
  {
   "cell_type": "code",
   "execution_count": 4,
   "metadata": {},
   "outputs": [
    {
     "data": {
      "text/plain": [
       "quality                 0\n",
       "alcohol                 0\n",
       "sulphates               0\n",
       "pH                      0\n",
       "density                 0\n",
       "total sulfur dioxide    0\n",
       "free sulfur dioxide     0\n",
       "chlorides               0\n",
       "residual sugar          0\n",
       "citric acid             0\n",
       "volatile acidity        0\n",
       "fixed acidity           0\n",
       "dtype: int64"
      ]
     },
     "execution_count": 4,
     "metadata": {},
     "output_type": "execute_result"
    }
   ],
   "source": [
    "# 查看是否有缺失值\n",
    "total = df.isnull().sum().sort_values(ascending=False)\n",
    "total"
   ]
  },
  {
   "cell_type": "code",
   "execution_count": 5,
   "metadata": {},
   "outputs": [
    {
     "data": {
      "text/plain": [
       "5    681\n",
       "6    638\n",
       "7    199\n",
       "4     53\n",
       "8     18\n",
       "3     10\n",
       "Name: quality, dtype: int64"
      ]
     },
     "execution_count": 5,
     "metadata": {},
     "output_type": "execute_result"
    }
   ],
   "source": [
    "# 查看样本类别分布\n",
    "df['quality'].value_counts(ascending=False)"
   ]
  },
  {
   "cell_type": "code",
   "execution_count": 6,
   "metadata": {},
   "outputs": [
    {
     "data": {
      "text/plain": [
       "0       5\n",
       "1       5\n",
       "2       5\n",
       "3       6\n",
       "4       5\n",
       "       ..\n",
       "1594    5\n",
       "1595    6\n",
       "1596    6\n",
       "1597    5\n",
       "1598    6\n",
       "Name: quality, Length: 1599, dtype: int64"
      ]
     },
     "execution_count": 6,
     "metadata": {},
     "output_type": "execute_result"
    }
   ],
   "source": [
    "X = df.iloc[ : , :11]\n",
    "X\n",
    "y = df.iloc[ : , 11]\n",
    "y"
   ]
  },
  {
   "cell_type": "code",
   "execution_count": 7,
   "metadata": {},
   "outputs": [
    {
     "data": {
      "text/plain": [
       "7    681\n",
       "5    681\n",
       "3    681\n",
       "8    681\n",
       "6    681\n",
       "4    681\n",
       "Name: quality, dtype: int64"
      ]
     },
     "execution_count": 7,
     "metadata": {},
     "output_type": "execute_result"
    }
   ],
   "source": [
    "# 定义SMOTE模型，random_state相当于随机数种子的作用\n",
    "from imblearn.over_sampling import SMOTE\n",
    "smo = SMOTE(random_state=42)\n",
    "X_smo, y_smo = smo.fit_sample(X, y)\n",
    "y_smo.value_counts(ascending=False)"
   ]
  },
  {
   "cell_type": "code",
   "execution_count": 8,
   "metadata": {},
   "outputs": [
    {
     "name": "stdout",
     "output_type": "stream",
     "text": [
      "(1279, 11)\n",
      "(320, 11)\n",
      "(1279,)\n",
      "(320,)\n"
     ]
    }
   ],
   "source": [
    "# 训练集测试集划分（交叉验证）\n",
    "X_train, X_test, y_train, y_test = train_test_split(X, y, test_size=0.2, random_state=33)\n",
    "print(X_train.shape)\n",
    "print(X_test.shape)\n",
    "print(y_train.shape)\n",
    "print(y_test.shape)"
   ]
  },
  {
   "cell_type": "code",
   "execution_count": 45,
   "metadata": {},
   "outputs": [
    {
     "name": "stdout",
     "output_type": "stream",
     "text": [
      "[5 6 5 5 5 5 5 6 6 5 6 5 5 7 6 5 6 5 5 5 5 7 5 7 5 5 6 6 5 5 7 6 5 6 6 7 5\n",
      " 5 6 8 5 5 5 6 5 5 6 6 5 5 6 5 6 6 6 6 5 4 5 6 5 5 5 6 6 4 6 5 6 7 6 7 5 5\n",
      " 5 5 6 5 5 4 6 6 7 6 5 5 5 7 5 5 5 5 5 6 7 6 5 6 7 5 6 5 6 6 5 6 6 7 6 6 6\n",
      " 6 5 6 5 4 5 6 6 7 6 6 5 5 5 5 6 3 5 6 6 7 6 6 6 5 5 6 4 7 6 6 5 6 5 5 7 5\n",
      " 6 4 5 6 5 5 5 6 7 6 6 5 5 6 6 5 7 5 5 5 5 7 5 6 6 5 6 5 6 6 5 6 5 6 7 5 6\n",
      " 5 6 6 6 5 6 5 6 7 5 5 5 5 5 5 6 5 5 6 4 6 5 6 6 5 6 5 5 5 7 6 6 5 5 5 5 6\n",
      " 6 7 5 5 5 6 6 5 6 6 5 6 5 5 5 5 6 5 6 6 6 5 5 5 6 5 5 5 5 5 5 5 5 5 7 5 7\n",
      " 7 6 6 7 5 5 5 6 5 6 5 6 6 5 5 6 5 5 6 6 6 6 6 5 5 6 4 6 5 5 5 5 6 6 5 4 5\n",
      " 5 6 5 6 5 6 6 7 5 5 5 5 5 6 6 3 5 5 5 8 5 5 6 6]\n",
      "246     5\n",
      "1538    5\n",
      "1386    5\n",
      "539     5\n",
      "1466    7\n",
      "       ..\n",
      "989     6\n",
      "780     6\n",
      "715     6\n",
      "356     5\n",
      "1315    6\n",
      "Name: quality, Length: 320, dtype: int64\n"
     ]
    },
    {
     "data": {
      "text/plain": [
       "array([[0.  , 0.  , 0.75, 0.25, 0.  , 0.  ],\n",
       "       [0.  , 0.  , 0.  , 1.  , 0.  , 0.  ],\n",
       "       [0.  , 0.  , 0.5 , 0.5 , 0.  , 0.  ],\n",
       "       ...,\n",
       "       [0.  , 0.  , 1.  , 0.  , 0.  , 0.  ],\n",
       "       [0.  , 0.  , 0.  , 1.  , 0.  , 0.  ],\n",
       "       [0.  , 0.  , 0.  , 1.  , 0.  , 0.  ]])"
      ]
     },
     "execution_count": 45,
     "metadata": {},
     "output_type": "execute_result"
    }
   ],
   "source": [
    "# 决策树算法\n",
    "from sklearn import tree\n",
    "Decision_Tree = tree.DecisionTreeClassifier(min_samples_leaf=4)\n",
    "Decision_Tree.fit(X_train, y_train)\n",
    "y_clf_Decision_Tree = Decision_Tree.predict(X_test)\n",
    "y_clf_Decision_Tree_quant = Decision_Tree.predict_proba(X_test)\n",
    "print(y_clf_Decision_Tree)\n",
    "print(y_test)\n",
    "y_clf_Decision_Tree_quant"
   ]
  },
  {
   "cell_type": "code",
   "execution_count": 18,
   "metadata": {},
   "outputs": [],
   "source": [
    "# 朴素贝叶斯算法\n",
    "from sklearn.naive_bayes import GaussianNB\n",
    "Bayesian = GaussianNB()\n",
    "Bayesian.fit(X_train, y_train)\n",
    "y_clf_Bayesian = Bayesian.predict(X_test)\n",
    "y_clf_Bayesian_quant = Bayesian.predict_proba(X_test)"
   ]
  },
  {
   "cell_type": "code",
   "execution_count": 19,
   "metadata": {},
   "outputs": [
    {
     "name": "stderr",
     "output_type": "stream",
     "text": [
      "D:\\ANACONDA\\envs\\statistic\\lib\\site-packages\\sklearn\\neural_network\\_multilayer_perceptron.py:470: ConvergenceWarning: lbfgs failed to converge (status=1):\n",
      "STOP: TOTAL NO. of ITERATIONS REACHED LIMIT.\n",
      "\n",
      "Increase the number of iterations (max_iter) or scale the data as shown in:\n",
      "    https://scikit-learn.org/stable/modules/preprocessing.html\n",
      "  self.n_iter_ = _check_optimize_result(\"lbfgs\", opt_res, self.max_iter)\n"
     ]
    }
   ],
   "source": [
    "# 神经网络算法\n",
    "from sklearn.neural_network import MLPClassifier\n",
    "BP = MLPClassifier(activation='logistic', solver='lbfgs', hidden_layer_sizes=(150,150))\n",
    "BP.fit(X_train, y_train)\n",
    "y_clf_BP = BP.predict(X_test)\n",
    "y_clf_BP_quant = BP.predict_proba(X_test)"
   ]
  },
  {
   "cell_type": "code",
   "execution_count": 20,
   "metadata": {},
   "outputs": [],
   "source": [
    "# 随机森林\n",
    "from sklearn.ensemble import RandomForestClassifier\n",
    "Random_Forest = RandomForestClassifier(n_estimators=100)\n",
    "Random_Forest.fit(X_train, y_train)\n",
    "y_clf_Random_Forest = Random_Forest.predict(X_test)\n",
    "y_clf_quant_Forest = Random_Forest.predict_proba(X_test)"
   ]
  },
  {
   "cell_type": "code",
   "execution_count": 21,
   "metadata": {},
   "outputs": [],
   "source": [
    "# 混淆矩阵评价\n",
    "from sklearn.metrics import confusion_matrix"
   ]
  },
  {
   "cell_type": "code",
   "execution_count": 22,
   "metadata": {},
   "outputs": [],
   "source": [
    "matrix_Desicion_Tree = confusion_matrix(y_test, y_clf_Decision_Tree)\n",
    "matrix_Bayesian = confusion_matrix(y_test, y_clf_Bayesian)\n",
    "matrix_BP = confusion_matrix(y_test, y_clf_BP)\n",
    "matrix_Random_Forest = confusion_matrix(y_test, y_clf_Random_Forest)"
   ]
  },
  {
   "cell_type": "code",
   "execution_count": 67,
   "metadata": {},
   "outputs": [],
   "source": [
    "import numpy as np\n",
    "from sklearn.metrics import accuracy_score\n",
    "from sklearn.metrics import f1_score\n",
    "def print_result1(matrix):\n",
    "    Accuracy = accuracy_score(y_test, y_clf_Decision_Tree)\n",
    "    F1 = f1_score(y_test, y_clf_Decision_Tree, average='macro')\n",
    "    print(\"混淆矩阵:\" )\n",
    "    print(matrix)\n",
    "    print('Accuracy:{:.2f}, F1:{:.2f}'.format(Accuracy, F1))\n",
    "def print_result2(matrix):\n",
    "    Accuracy = accuracy_score(y_test, y_clf_Bayesian)\n",
    "    F1 = f1_score(y_test, y_clf_Bayesian, average='macro')\n",
    "    print(\"混淆矩阵:\" )\n",
    "    print(matrix)\n",
    "    print('Accuracy:{:.2f}, F1:{:.2f}'.format(Accuracy, F1))\n",
    "def print_result3(matrix):\n",
    "    Accuracy = accuracy_score(y_test, y_clf_BP)\n",
    "    F1 = f1_score(y_test, y_clf_BP, average='macro')\n",
    "    print(\"混淆矩阵:\" )\n",
    "    print(matrix)\n",
    "    print('Accuracy:{:.2f}, F1:{:.2f}'.format(Accuracy, F1))\n",
    "def print_result4(matrix):\n",
    "    Accuracy = accuracy_score(y_test, y_clf_Random_Forest)\n",
    "    F1 = f1_score(y_test, y_clf_Random_Forest, average='macro')\n",
    "    print(\"混淆矩阵:\" )\n",
    "    print(matrix)\n",
    "    print('Accuracy:{:.2f}, F1:{:.2f}'.format(Accuracy, F1))\n"
   ]
  },
  {
   "cell_type": "code",
   "execution_count": 68,
   "metadata": {},
   "outputs": [
    {
     "name": "stdout",
     "output_type": "stream",
     "text": [
      "混淆矩阵:\n",
      "[[ 0  1  0  0  0  0]\n",
      " [ 0  1  3  4  1  0]\n",
      " [ 1  2 89 37 10  1]\n",
      " [ 0  3 34 82  7  2]\n",
      " [ 0  0  5 12 21  0]\n",
      " [ 0  0  0  3  1  0]]\n",
      "Accuracy:0.57, F1:0.30\n",
      "混淆矩阵:\n",
      "[[ 0  1  0  0  0  0]\n",
      " [ 0  4  3  2  0  0]\n",
      " [ 0 10 87 38  5  0]\n",
      " [ 0  2 36 74 15  1]\n",
      " [ 0  0  1 18 19  0]\n",
      " [ 0  0  0  2  2  0]]\n",
      "Accuracy:0.57, F1:0.33\n",
      "混淆矩阵:\n",
      "[[ 0  0  1  0  0  0]\n",
      " [ 0  0  8  1  0  0]\n",
      " [ 0  0 95 44  1  0]\n",
      " [ 0  0 45 79  4  0]\n",
      " [ 0  0  1 29  8  0]\n",
      " [ 0  0  0  3  1  0]]\n",
      "Accuracy:0.57, F1:0.25\n",
      "混淆矩阵:\n",
      "[[  0   0   1   0   0   0]\n",
      " [  0   0   4   5   0   0]\n",
      " [  0   0 106  34   0   0]\n",
      " [  0   0  29  96   3   0]\n",
      " [  0   0   0  14  24   0]\n",
      " [  0   0   0   3   1   0]]\n",
      "Accuracy:0.71, F1:0.36\n"
     ]
    }
   ],
   "source": [
    "# 输出混淆矩阵评价结果\n",
    "print_result1(matrix_Desicion_Tree)\n",
    "print_result2(matrix_Bayesian)\n",
    "print_result3(matrix_BP)\n",
    "print_result4(matrix_Random_Forest)"
   ]
  },
  {
   "cell_type": "code",
   "execution_count": 69,
   "metadata": {},
   "outputs": [],
   "source": [
    "# ROC评价 \n",
    "from sklearn.metrics import roc_curve, auc"
   ]
  },
  {
   "cell_type": "code",
   "execution_count": 70,
   "metadata": {},
   "outputs": [
    {
     "name": "stdout",
     "output_type": "stream",
     "text": [
      "continuous-multioutput\n"
     ]
    }
   ],
   "source": [
    "from sklearn.utils.multiclass import type_of_target\n",
    "from sklearn.preprocessing import label_binarize\n",
    "from matplotlib import pyplot as plt\n",
    "%matplotlib inline\n",
    "print(type_of_target(y_clf_Decision_Tree_quant)) # 查看类型\n",
    "y_test_lb = label_binarize(y_test, np.arange(6))"
   ]
  },
  {
   "cell_type": "code",
   "execution_count": 74,
   "metadata": {},
   "outputs": [],
   "source": [
    "def print_roc(y_quant):\n",
    "    fpr, tpr, thresholds = roc_curve(y_test_lb.ravel(), y_quant.ravel())\n",
    "    plt.plot(fpr, tpr)\n",
    "    plt.title('Roc Curve')\n",
    "    plt.xlabel('FP rate')\n",
    "    plt.ylabel('TP rate')\n",
    "    plt.grid(True)\n",
    "    print('ROC曲线下面积AUC为:', auc(fpr, tpr))"
   ]
  },
  {
   "cell_type": "code",
   "execution_count": 75,
   "metadata": {},
   "outputs": [
    {
     "name": "stdout",
     "output_type": "stream",
     "text": [
      "ROC曲线下面积AUC为: 0.34829190207156313\n",
      "ROC曲线下面积AUC为: 0.1631713747645951\n",
      "ROC曲线下面积AUC为: 0.1829265536723164\n",
      "ROC曲线下面积AUC为: 0.1984030131826742\n"
     ]
    },
    {
     "data": {
      "image/png": "[encoded data removed]",
      "text/plain": [
       "<Figure size 432x288 with 1 Axes>"
      ]
     },
     "metadata": {
      "needs_background": "light"
     },
     "output_type": "display_data"
    }
   ],
   "source": [
    "print_roc(y_clf_Decision_Tree_quant)\n",
    "print_roc(y_clf_Bayesian_quant)\n",
    "print_roc(y_clf_BP_quant)\n",
    "print_roc(y_clf_quant_Forest)"
   ]
  },
  {
   "cell_type": "code",
   "execution_count": null,
   "metadata": {},
   "outputs": [],
   "source": []
  },
  {
   "cell_type": "code",
   "execution_count": null,
   "metadata": {},
   "outputs": [],
   "source": []
  }
 ],
 "metadata": {
  "kernelspec": {
   "display_name": "Python [conda env:statistic]",
   "language": "python",
   "name": "conda-env-statistic-py"
  },
  "language_info": {
   "codemirror_mode": {
    "name": "ipython",
    "version": 3
   },
   "file_extension": ".py",
   "mimetype": "text/x-python",
   "name": "python",
   "nbconvert_exporter": "python",
   "pygments_lexer": "ipython3",
   "version": "3.8.0"
  }
 },
 "nbformat": 4,
 "nbformat_minor": 2
}
